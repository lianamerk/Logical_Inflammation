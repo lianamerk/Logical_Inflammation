{
 "cells": [
  {
   "cell_type": "markdown",
   "metadata": {},
   "source": [
    "## LacI and mScarlet Circuit Diagram using DNAplotlib"
   ]
  },
  {
   "cell_type": "markdown",
   "metadata": {},
   "source": [
    "## Imports"
   ]
  },
  {
   "cell_type": "code",
   "execution_count": 1,
   "metadata": {},
   "outputs": [],
   "source": [
    "%matplotlib inline\n",
    "import dnaplotlib as dpl\n",
    "from pylab import *\n",
    "import matplotlib.pyplot as plt"
   ]
  },
  {
   "cell_type": "markdown",
   "metadata": {},
   "source": [
    "## Color Lighten"
   ]
  },
  {
   "cell_type": "code",
   "execution_count": 2,
   "metadata": {},
   "outputs": [],
   "source": [
    "# Function to generate a ligher colour\n",
    "def lighten_color (col, fac):\n",
    "\tr = col[0] + (fac*(1.0-col[0]))\n",
    "\tg = col[1] + (fac*(1.0-col[1]))\n",
    "\tb = col[2] + (fac*(1.0-col[2]))\n",
    "\treturn (r,g,b)"
   ]
  },
  {
   "cell_type": "markdown",
   "metadata": {},
   "source": [
    "## Create colors"
   ]
  },
  {
   "cell_type": "code",
   "execution_count": 3,
   "metadata": {},
   "outputs": [],
   "source": [
    "# Colour map\n",
    "col_map = {}\n",
    "col_map['black']   = (0.00, 0.00, 0.00)\n",
    "col_map['white']   = (1.00, 1.00, 1.00)\n",
    "col_map['red']     = (1, 0, 26/255)\n",
    "col_map['green']   = (0.38, 0.82, 0.32)\n",
    "col_map['blue']    = '#514689'\n",
    "col_map['pink']  = '#E36881'\n",
    "col_map['orange']  = (245/255,80/255,0)\n",
    "col_map['yellow'] = (253/255,192/255,29/255)\n",
    "col_map['purple'] = (128/255,0,128/255)"
   ]
  },
  {
   "cell_type": "markdown",
   "metadata": {},
   "source": [
    "## Line width"
   ]
  },
  {
   "cell_type": "code",
   "execution_count": 4,
   "metadata": {},
   "outputs": [],
   "source": [
    "# Global line width\n",
    "lw = 1.0"
   ]
  },
  {
   "cell_type": "markdown",
   "metadata": {},
   "source": [
    "### Plot"
   ]
  },
  {
   "cell_type": "code",
   "execution_count": 5,
   "metadata": {},
   "outputs": [
    {
     "data": {
      "text/plain": [
       "(0.0, 244.0, -35.0, 35.0)"
      ]
     },
     "execution_count": 5,
     "metadata": {},
     "output_type": "execute_result"
    },
    {
     "data": {
      "image/png": "[encoded data removed]",
      "text/plain": [
       "<Figure size 576x167.04 with 1 Axes>"
      ]
     },
     "metadata": {},
     "output_type": "display_data"
    }
   ],
   "source": [
    "%matplotlib inline\n",
    "fig = plt.figure(figsize=(8,2.32))\n",
    "\n",
    "# Define the parts\n",
    "lacI = {'type':'CDS', 'name':'lacI', 'fwd':True, 'opts':{'linewidth':lw, 'color':col_map['purple'], 'edge_color':col_map['black'], 'x_extent':35, 'y_extent':8, 'label':'lacI', 'label_style':'italic', 'start_pad':15, 'label_color':(1,1,1), 'label_x_offset':6, 'label_y_offset':-1}}\n",
    "mScarlet = {'type':'CDS', 'name':'mScarlet', 'fwd':True, 'opts':{'linewidth':lw, 'color':col_map['red'], 'edge_color':col_map['black'], 'x_extent':50, 'y_extent':8, 'label':'mScarlet', 'label_style':'italic','start_pad':15,  'label_color':(1,1,1), 'label_x_offset':5, 'label_y_offset':-1}}\n",
    "\n",
    "# How much to lighten OFF components\n",
    "off_fac = 0.7\n",
    "\n",
    "p3m = {'type':'Promoter', 'name':'p3m', 'fwd':True, 'opts':{'linewidth':lw, 'color':col_map['black'], 'label': 'p3m', 'start_pad':25, 'label_x_offset':4, 'label_y_offset':-10}}\n",
    "\n",
    "t2m = {'type':'Terminator', 'name':'t2m', 'fwd':True, 'opts':{'linewidth':lw, 'color':col_map['black'], 'label': 't2m', 'start_pad':10, 'end_pad':10, 'label_y_offset':-10, 'label_x_offset':4}}\n",
    "\n",
    "arl = {'type':'RBS', 'name':'ARL', 'fwd':True, 'opts':{'linewidth':lw, 'color':col_map['black'], 'label': 'ARL', 'start_pad':9, 'x_extent':10, 'label_x_offset':7, 'label_y_offset':-10}}\n",
    "B0034 = {'type':'RBS', 'name':'B0034', 'fwd':True, 'opts':{'linewidth':lw, 'color':col_map['black'], 'label': 'B0034', 'start_pad':15, 'x_extent':10, 'label_x_offset':9,'label_y_offset':-10}}\n",
    "ColE1 = {'type':'Origin', 'name':'ColE1', 'fwd':True, 'opts':{'linewidth':lw, 'color':col_map['black'], 'label': 'ColE1', 'label_y_offset':-12}}\n",
    "\n",
    "\n",
    "# A design is merely a list of parts and their properties\n",
    "design1 = [ColE1, p3m, arl, lacI, B0034, mScarlet, t2m]\n",
    "\n",
    "\n",
    "# Set up the axes for the genetic constructs\n",
    "ax_dna1 = plt.axes([0, 0, 1, 0.3])\n",
    "\n",
    "# Create the DNAplotlib renderer\n",
    "dr = dpl.DNARenderer()\n",
    "\n",
    "# Redender the DNA to axis\n",
    "start, end = dr.renderDNA(ax_dna1, design1, dr.SBOL_part_renderers())\n",
    "\n",
    "ax_dna1.set_xlim([start, end])\n",
    "ax_dna1.set_ylim([-35,35])\n",
    "ax_dna1.set_aspect(0.95)\n",
    "ax_dna1.set_xticks([])\n",
    "ax_dna1.set_yticks([])\n",
    "ax_dna1.axis('off')"
   ]
  },
  {
   "cell_type": "code",
   "execution_count": 6,
   "metadata": {},
   "outputs": [],
   "source": [
    "# Save the figure\n",
    "fig.savefig('../figures/fig3/fig3b_rep.png', dpi=300)\n",
    "\n",
    "# Clear the plotting cache\n",
    "plt.close('all')"
   ]
  }
 ],
 "metadata": {
  "kernelspec": {
   "display_name": "Python 3",
   "language": "python",
   "name": "python3"
  },
  "language_info": {
   "codemirror_mode": {
    "name": "ipython",
    "version": 3
   },
   "file_extension": ".py",
   "mimetype": "text/x-python",
   "name": "python",
   "nbconvert_exporter": "python",
   "pygments_lexer": "ipython3",
   "version": "3.7.6"
  }
 },
 "nbformat": 4,
 "nbformat_minor": 4
}
